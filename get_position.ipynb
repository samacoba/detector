{
 "cells": [
  {
   "cell_type": "code",
   "execution_count": 1,
   "metadata": {
    "collapsed": false
   },
   "outputs": [
    {
     "data": {
      "text/html": [
       "<!DOCTYPE html>\n",
       "<html lang=\"ja\">\n",
       "<head><mata charset=\"utf-8\"/><title>click position</title></head>\n",
       "<body>\n",
       "<canvas id=\"c\" width=\"400\" height=\"400\" style=\"border:1px solid;\"></canvas>\n",
       "<form name=\"js\">\n",
       "Ctrl+Click:\n",
       "<input type=\"text\" name=\"txtbA\" value=\"\" style=\"width:50px;\"><br>\n",
       "<textarea name=\"tlistA\"></textarea><br>\n",
       "</form>\n",
       "<script src=\"jquery.min.js\"></script>\n",
       "<script src=\"fabric.min.js\"></script>\n",
       "<script>\n",
       "\n",
       "var canvas = new fabric.Canvas('c');\n",
       "var panning = false;\n",
       "canvas.selection = false//ドラック複数選択不可\n",
       "\n",
       "var cir_colorA = 'rgba(250, 250, 0, 0.5)'\n",
       "var img_name = 'imgA.png'\n",
       "\n",
       "//位置と数をテキストに出力\n",
       "var push_posi = function(){\n",
       "    \n",
       "    posi_txtA=''    \n",
       "    countA=0    \n",
       "    canvas.forEachObject(function(o){\n",
       "        if(o.stroke == cir_colorA){\n",
       "            posi_txtA += String(Math.round(o.top))\n",
       "            +',' +String(Math.round(o.left))+'\\n';\n",
       "            countA++\n",
       "        }\n",
       "    });\n",
       "    document.js.tlistA.value =posi_txtA;\n",
       "    document.js.txtbA.value= String(countA);\n",
       "}\n",
       "\n",
       "//画像を読み込む\n",
       "fabric.Image.fromURL(img_name, function(img) {\n",
       "    image = img.set({})\n",
       "    image.selectable=false;\n",
       "    image.evented=false;\n",
       "    canvas.add(image);\n",
       " });\n",
       "\n",
       "//クリック時（マウスダウン時）\n",
       "canvas.on('mouse:down', function (e) {\n",
       "    panning = true;\n",
       "    //円追加\n",
       "    if (e.e.ctrlKey || e.e.shiftKey){\n",
       "        if(e.e.ctrlKey){cir_color = cir_colorA;}\n",
       "        if(e.e.shiftKey){cir_color = cir_colorB;}\n",
       "        mouse_pos = canvas.getPointer(e.e);\n",
       "        var circle = new fabric.Circle({\n",
       "            left: mouse_pos.x,\n",
       "            top: mouse_pos.y,\n",
       "            originX: 'center',\n",
       "            originY: 'center',\n",
       "            radius: 4,\n",
       "            fill: '',\n",
       "            strokeWidth: 1\n",
       "            });\n",
       "        circle.stroke=cir_color;\n",
       "        circle.hasControls = false;\n",
       "        canvas.add(circle);\n",
       "        panning = false\n",
       "    }\n",
       "});\n",
       "\n",
       "\n",
       "//マウスアップ時\n",
       "canvas.on('mouse:up', function (e) {\n",
       "    panning = false;\n",
       "    push_posi();\n",
       "});\n",
       "\n",
       "//画面スクロール\n",
       "canvas.on('mouse:move', function(e) {\n",
       "   if (canvas.getActiveObject() == null && panning) {\n",
       "        var delta = new fabric.Point(e.e.movementX, e.e.movementY);\n",
       "        canvas.relativePan(delta);\n",
       "    }\n",
       "});\n",
       "\n",
       "//画面ホイール拡大縮小\n",
       "var Zoom_mag=1;\n",
       "$(canvas.wrapperEl).on('mousewheel', function(e) {\n",
       "    var delta = e.originalEvent.wheelDelta / 720;    \n",
       "    Zoom_mag *= 1 + delta;\n",
       "    x = e.offsetX, y = e.offsetY;\n",
       "    canvas.zoomToPoint({ x: x, y: y }, Zoom_mag);    \n",
       "    canvas.renderAll();\n",
       "    return false;    \n",
       "});\n",
       "\n",
       "//削除\n",
       "$(window).keydown(function(e) {    \n",
       "    switch (e.keyCode) {\n",
       "        case 46: // delete\n",
       "        if(canvas.getActiveGroup()){\n",
       "            canvas.getActiveGroup().forEachObject(function(o){ canvas.remove(o) });\n",
       "            canvas.discardActiveGroup().renderAll();\n",
       "        }\n",
       "        else {canvas.remove(canvas.getActiveObject());}\n",
       "        push_posi();\n",
       "        return false;\n",
       "    }\n",
       "    return;\n",
       "});\n",
       "//ウィジェットで値を取得\n",
       "require.undef('hello');\n",
       "define('hello', [\"jupyter-js-widgets\"], function(widgets) {\n",
       "    var HelloView = widgets.DOMWidgetView.extend({\n",
       "        render: function() {\n",
       "            this.model.on('change:value', this.value_changed, this);\n",
       "        },\n",
       "        value_changed: function() {\n",
       "            this.model.set('html_form', document.js.tlistA.value);//ここでフォーム内のテキストを取得\n",
       "            this.touch();\n",
       "        },\n",
       "    });\n",
       "    return {\n",
       "        HelloView : HelloView\n",
       "    };\n",
       "});\n",
       "\n",
       "</script>\n",
       "</body>\n",
       "</html>\n"
      ],
      "text/plain": [
       "<IPython.core.display.HTML object>"
      ]
     },
     "execution_count": 1,
     "metadata": {},
     "output_type": "execute_result"
    }
   ],
   "source": [
    "#※１セルずつ実行すること（連続で実行するとウイジェットの同期がうまくいかない場合がある）\n",
    "#クリックした位置を表示するhtml-javascriptを表示\n",
    "from IPython import display \n",
    "with open('click_pos.html','r', encoding = 'utf-8') as f:\n",
    "    html_data = f.read()\n",
    "display.HTML(html_data)"
   ]
  },
  {
   "cell_type": "code",
   "execution_count": null,
   "metadata": {
    "collapsed": true
   },
   "outputs": [],
   "source": [
    "#取得用のウイジェット作成\n",
    "import ipywidgets as widgets\n",
    "from traitlets import Unicode\n",
    "class HelloWidget(widgets.DOMWidget):\n",
    "    _view_name = Unicode('HelloView').tag(sync=True)\n",
    "    _view_module = Unicode('hello').tag(sync=True)\n",
    "    value = Unicode('Hello World!').tag(sync=True)\n",
    "    html_form = Unicode('').tag(sync=True)\n",
    "my_widget = HelloWidget()\n",
    "my_widget#ここで一度ウイジェットを作る必要がある"
   ]
  },
  {
   "cell_type": "code",
   "execution_count": null,
   "metadata": {
    "collapsed": true
   },
   "outputs": [],
   "source": [
    "#フォーム内の値を取得\n",
    "my_widget.value += 'w'#valueに[w]を追加することで、無理やり値を変えて、同期イベントを起こし、フォーム内の値を取得"
   ]
  },
  {
   "cell_type": "code",
   "execution_count": null,
   "metadata": {
    "collapsed": false
   },
   "outputs": [],
   "source": [
    "#テキストを分割して、数値を配列化\n",
    "tex_n=my_widget.html_form.split('\\n')\n",
    "tex_n.pop()\n",
    "pos=[]\n",
    "sp=[te.split(',') for te in tex_n]\n",
    "for tp in sp:\n",
    "    pos.append([int(tp[0]),int(tp[1])])"
   ]
  },
  {
   "cell_type": "code",
   "execution_count": null,
   "metadata": {
    "collapsed": false
   },
   "outputs": [],
   "source": [
    "#pickle化して保存\n",
    "import pickle\n",
    "with open(\"posA.pkl\", \"wb\") as pk_data:\n",
    "    pickle.dump(pos, pk_data, -1)"
   ]
  }
 ],
 "metadata": {
  "anaconda-cloud": {},
  "kernelspec": {
   "display_name": "Python [conda root]",
   "language": "python",
   "name": "conda-root-py"
  },
  "language_info": {
   "codemirror_mode": {
    "name": "ipython",
    "version": 3
   },
   "file_extension": ".py",
   "mimetype": "text/x-python",
   "name": "python",
   "nbconvert_exporter": "python",
   "pygments_lexer": "ipython3",
   "version": "3.5.2"
  },
  "widgets": {
   "state": {
    "fd217d1d4bd841a9be166540af73ced7": {
     "views": [
      {
       "cell_index": 1
      }
     ]
    }
   },
   "version": "1.2.0"
  }
 },
 "nbformat": 4,
 "nbformat_minor": 0
}
