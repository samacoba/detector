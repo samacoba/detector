{
 "cells": [
  {
   "cell_type": "code",
   "execution_count": null,
   "metadata": {
    "collapsed": false
   },
   "outputs": [],
   "source": [
    "#※１セルずつ実行すること（連続で実行するとウイジェットの同期がうまくいかない場合がある）\n",
    "#クリックした位置を表示するhtml-javascriptを表示\n",
    "from IPython import display \n",
    "with open('click_pos.html','r', encoding = 'utf-8') as f:\n",
    "    html_data = f.read()\n",
    "display.HTML(html_data)"
   ]
  },
  {
   "cell_type": "code",
   "execution_count": null,
   "metadata": {
    "collapsed": true
   },
   "outputs": [],
   "source": [
    "#取得用のウイジェット作成\n",
    "import ipywidgets as widgets\n",
    "from traitlets import Unicode\n",
    "class HelloWidget(widgets.DOMWidget):\n",
    "    _view_name = Unicode('HelloView').tag(sync=True)\n",
    "    _view_module = Unicode('hello').tag(sync=True)\n",
    "    value = Unicode('Hello World!').tag(sync=True)\n",
    "    html_form = Unicode('').tag(sync=True)\n",
    "my_widget = HelloWidget()\n",
    "my_widget#ここで一度ウイジェットを作る必要がある"
   ]
  },
  {
   "cell_type": "code",
   "execution_count": null,
   "metadata": {
    "collapsed": true
   },
   "outputs": [],
   "source": [
    "#フォーム内の値を取得\n",
    "my_widget.value += 'w'#valueに[w]を追加することで、無理やり値を変えて、同期イベントを起こし、フォーム内の値を取得"
   ]
  },
  {
   "cell_type": "code",
   "execution_count": null,
   "metadata": {
    "collapsed": false
   },
   "outputs": [],
   "source": [
    "#テキストを分割して、数値を配列化\n",
    "tex_n=my_widget.html_form.split('\\n')\n",
    "tex_n.pop()\n",
    "pos=[]\n",
    "sp=[te.split(',') for te in tex_n]\n",
    "for tp in sp:\n",
    "    pos.append([int(tp[0]),int(tp[1])])"
   ]
  },
  {
   "cell_type": "code",
   "execution_count": null,
   "metadata": {
    "collapsed": false
   },
   "outputs": [],
   "source": [
    "#pickle化して保存\n",
    "import pickle\n",
    "with open(\"posA.pkl\", \"wb\") as pk_data:\n",
    "    pickle.dump(pos, pk_data, -1)"
   ]
  }
 ],
 "metadata": {
  "anaconda-cloud": {},
  "kernelspec": {
   "display_name": "Python [conda root]",
   "language": "python",
   "name": "conda-root-py"
  },
  "language_info": {
   "codemirror_mode": {
    "name": "ipython",
    "version": 3
   },
   "file_extension": ".py",
   "mimetype": "text/x-python",
   "name": "python",
   "nbconvert_exporter": "python",
   "pygments_lexer": "ipython3",
   "version": "3.5.2"
  }
 },
 "nbformat": 4,
 "nbformat_minor": 0
}
